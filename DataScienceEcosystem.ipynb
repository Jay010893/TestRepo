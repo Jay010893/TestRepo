{
 "cells": [
  {
   "cell_type": "markdown",
   "id": "bbdabd71-9f02-4455-af35-f619d5fa51a9",
   "metadata": {},
   "source": [
    "# Data Science Tools and Ecosystem"
   ]
  },
  {
   "cell_type": "markdown",
   "id": "2d7496ac-475f-484e-a1af-7ae8a86d5774",
   "metadata": {},
   "source": [
    "In this notebook, Data Science Tools and Ecosystem are summarized."
   ]
  },
  {
   "cell_type": "markdown",
   "id": "f35bf2ea-c17c-4566-a200-bdedd2c47e44",
   "metadata": {},
   "source": [
    "**Objectives:**\n",
    "\n",
    "- List popular languages for Data Science  \n",
    "- Identify commonly used Data Science libraries  \n",
    "- Understand various Data Science development tools  \n",
    "- Write and execute simple arithmetic expressions in Python  \n",
    "- Convert units (e.g., minutes to hours) using Python code"
   ]
  },
  {
   "cell_type": "markdown",
   "id": "dab902d3-d3a0-4537-b759-3def57d47a87",
   "metadata": {},
   "source": [
    "Some of the popular languages that Data Scientists use are:\n",
    "\n",
    "- Python\n",
    "- R\n",
    "- SQL\n",
    "- Scala\n",
    "- Julia"
   ]
  },
  {
   "cell_type": "markdown",
   "id": "49725a19-b413-4bcd-962f-3374f7a8a3e6",
   "metadata": {},
   "source": [
    "Some of the commonly used libraries used by Data Scientists include:\n",
    "- Pandas\n",
    "- NumPy\n",
    "- Matplotlib\n",
    "- TensorFlow"
   ]
  },
  {
   "cell_type": "markdown",
   "id": "58321f65-202f-4abd-8ff0-b35baa21a85f",
   "metadata": {},
   "source": [
    "| Data Science Tools. |\n",
    "|-|\n",
    "| Jupyter Notebook |\n",
    "| RStudio |\n",
    "| Apache |"
   ]
  },
  {
   "cell_type": "markdown",
   "id": "ad6ff3ee-b8b0-46ec-b941-50957749e9bc",
   "metadata": {},
   "source": [
    "### Below are a few examples of evaluating arithmetic expressions in Python"
   ]
  },
  {
   "cell_type": "code",
   "execution_count": 5,
   "id": "ba984043-e66c-4ea5-bc41-f71fbb55fef5",
   "metadata": {},
   "outputs": [
    {
     "data": {
      "text/plain": [
       "17"
      ]
     },
     "execution_count": 5,
     "metadata": {},
     "output_type": "execute_result"
    }
   ],
   "source": [
    "# This is a simple arithmetic expression to multiply then add integers.\n",
    "result = (3 * 4) + 5\n",
    "result"
   ]
  },
  {
   "cell_type": "code",
   "execution_count": 6,
   "id": "8aac170e-1b29-4001-b86a-07edf0beca79",
   "metadata": {},
   "outputs": [
    {
     "data": {
      "text/plain": [
       "3.3333333333333335"
      ]
     },
     "execution_count": 6,
     "metadata": {},
     "output_type": "execute_result"
    }
   ],
   "source": [
    "# This will convert 200 minutes to hours by dividing by 60\n",
    "hours = 200 / 60\n",
    "hours"
   ]
  },
  {
   "cell_type": "markdown",
   "id": "7c35fc98-957b-4277-93c0-10c4a120a5e5",
   "metadata": {},
   "source": [
    "## Author\n",
    "\n",
    "Jayson DIaz Robredillo"
   ]
  },
  {
   "cell_type": "code",
   "execution_count": null,
   "id": "d6a767cc-d33d-4e10-b82a-6bdeee61137a",
   "metadata": {},
   "outputs": [],
   "source": []
  }
 ],
 "metadata": {
  "kernelspec": {
   "display_name": "Python 3 (ipykernel)",
   "language": "python",
   "name": "python3"
  },
  "language_info": {
   "codemirror_mode": {
    "name": "ipython",
    "version": 3
   },
   "file_extension": ".py",
   "mimetype": "text/x-python",
   "name": "python",
   "nbconvert_exporter": "python",
   "pygments_lexer": "ipython3",
   "version": "3.12.8"
  }
 },
 "nbformat": 4,
 "nbformat_minor": 5
}
